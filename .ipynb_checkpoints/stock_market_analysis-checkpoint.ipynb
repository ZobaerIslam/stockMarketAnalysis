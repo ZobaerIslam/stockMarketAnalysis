{
 "cells": [
  {
   "cell_type": "markdown",
   "id": "5fab6862",
   "metadata": {},
   "source": [
    "# Stock Market Analysis"
   ]
  },
  {
   "cell_type": "markdown",
   "id": "65bae94d",
   "metadata": {},
   "source": [
    "A stock market represents the claims of companies and individuals on the shares of public companies. The prices of these shares vary depending on various factors, including inflation, demand, and reputation.\n",
    "\n",
    "Buying and selling stocks is a major business, and people keep trying to predict the future stock behavior to earn large paybacks on their investments.\n",
    "\n",
    "In this data analysis project, we try to analyze the data of various stocks to obtain valuable information. This information provides insights on which stocks generate more returns."
   ]
  },
  {
   "cell_type": "markdown",
   "id": "7d8d0c76",
   "metadata": {},
   "source": [
    "> **Note:** There is no program in the world that can correctly predict future stock behavior. The techniques covered in this project only allow us to make an educated guess based on the previous behavior of a particular stock."
   ]
  },
  {
   "cell_type": "markdown",
   "id": "f933f1a3",
   "metadata": {},
   "source": [
    "**We will try to answer the following questions after doing stock market data analysis:**\n",
    "\n",
    "1. How much did the stock price of each company change over time?\n",
    "\n",
    "2. What were the daily returns for all the companies?\n",
    "\n",
    "3. How are the stocks of the companies related to each other?\n",
    "\n",
    "4. How much money do we risk losing by investing in a certain company?\n",
    "\n",
    "5. Can we predict future stock behavior?"
   ]
  },
  {
   "cell_type": "markdown",
   "id": "555021d9",
   "metadata": {},
   "source": [
    "**Let’s look up the stocks data for Systems Ltd.**"
   ]
  },
  {
   "cell_type": "code",
   "execution_count": 1,
   "id": "b8cce73c",
   "metadata": {},
   "outputs": [
    {
     "data": {
      "text/html": [
       "<div>\n",
       "<style scoped>\n",
       "    .dataframe tbody tr th:only-of-type {\n",
       "        vertical-align: middle;\n",
       "    }\n",
       "\n",
       "    .dataframe tbody tr th {\n",
       "        vertical-align: top;\n",
       "    }\n",
       "\n",
       "    .dataframe thead th {\n",
       "        text-align: right;\n",
       "    }\n",
       "</style>\n",
       "<table border=\"1\" class=\"dataframe\">\n",
       "  <thead>\n",
       "    <tr style=\"text-align: right;\">\n",
       "      <th></th>\n",
       "      <th>Time</th>\n",
       "      <th>Open</th>\n",
       "      <th>High</th>\n",
       "      <th>Low</th>\n",
       "      <th>Close</th>\n",
       "      <th>Volume</th>\n",
       "    </tr>\n",
       "  </thead>\n",
       "  <tbody>\n",
       "    <tr>\n",
       "      <th>0</th>\n",
       "      <td>Jan 1, 2018</td>\n",
       "      <td>75.50</td>\n",
       "      <td>75.5</td>\n",
       "      <td>75.00</td>\n",
       "      <td>75.00</td>\n",
       "      <td>4000</td>\n",
       "    </tr>\n",
       "    <tr>\n",
       "      <th>1</th>\n",
       "      <td>Jan 2, 2018</td>\n",
       "      <td>74.85</td>\n",
       "      <td>76.0</td>\n",
       "      <td>73.11</td>\n",
       "      <td>75.32</td>\n",
       "      <td>197500</td>\n",
       "    </tr>\n",
       "    <tr>\n",
       "      <th>2</th>\n",
       "      <td>Jan 3, 2018</td>\n",
       "      <td>74.03</td>\n",
       "      <td>74.6</td>\n",
       "      <td>72.30</td>\n",
       "      <td>72.75</td>\n",
       "      <td>21000</td>\n",
       "    </tr>\n",
       "    <tr>\n",
       "      <th>3</th>\n",
       "      <td>Jan 4, 2018</td>\n",
       "      <td>71.03</td>\n",
       "      <td>74.5</td>\n",
       "      <td>71.03</td>\n",
       "      <td>74.01</td>\n",
       "      <td>381500</td>\n",
       "    </tr>\n",
       "    <tr>\n",
       "      <th>4</th>\n",
       "      <td>Jan 5, 2018</td>\n",
       "      <td>74.35</td>\n",
       "      <td>77.0</td>\n",
       "      <td>71.00</td>\n",
       "      <td>76.52</td>\n",
       "      <td>180500</td>\n",
       "    </tr>\n",
       "  </tbody>\n",
       "</table>\n",
       "</div>"
      ],
      "text/plain": [
       "          Time   Open  High    Low  Close  Volume\n",
       "0  Jan 1, 2018  75.50  75.5  75.00  75.00    4000\n",
       "1  Jan 2, 2018  74.85  76.0  73.11  75.32  197500\n",
       "2  Jan 3, 2018  74.03  74.6  72.30  72.75   21000\n",
       "3  Jan 4, 2018  71.03  74.5  71.03  74.01  381500\n",
       "4  Jan 5, 2018  74.35  77.0  71.00  76.52  180500"
      ]
     },
     "execution_count": 1,
     "metadata": {},
     "output_type": "execute_result"
    }
   ],
   "source": [
    "import pandas as pd\n",
    "\n",
    "sys = pd.read_csv('data/year_2018/SYS.csv')\n",
    "\n",
    "sys.head()"
   ]
  },
  {
   "cell_type": "code",
   "execution_count": null,
   "id": "4af06039",
   "metadata": {},
   "outputs": [],
   "source": []
  }
 ],
 "metadata": {
  "kernelspec": {
   "display_name": "Python 3 (ipykernel)",
   "language": "python",
   "name": "python3"
  },
  "language_info": {
   "codemirror_mode": {
    "name": "ipython",
    "version": 3
   },
   "file_extension": ".py",
   "mimetype": "text/x-python",
   "name": "python",
   "nbconvert_exporter": "python",
   "pygments_lexer": "ipython3",
   "version": "3.8.3"
  }
 },
 "nbformat": 4,
 "nbformat_minor": 5
}
